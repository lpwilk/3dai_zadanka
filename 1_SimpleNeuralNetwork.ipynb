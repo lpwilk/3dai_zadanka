{
 "metadata": {
  "language_info": {
   "codemirror_mode": {
    "name": "ipython",
    "version": 3
   },
   "file_extension": ".py",
   "mimetype": "text/x-python",
   "name": "python",
   "nbconvert_exporter": "python",
   "pygments_lexer": "ipython3",
   "version": "3.6.12-final"
  },
  "orig_nbformat": 2,
  "kernelspec": {
   "name": "pycharm-9fe4efbf",
   "display_name": "PyCharm (segmentation_models-master)",
   "language": "python"
  }
 },
 "nbformat": 4,
 "nbformat_minor": 2,
 "cells": [
  {
   "source": [
    "## Zadanko 1\n",
    "No to zaczynamy! Podobno najszybciej człowiek uczy się przez praktykę, więc szkoda gadać.\n",
    "To na czym zależy mi w tym \"zadaniu\" to pokazać wam jak wygląda praca z sieciami neuronowymi w praktyce ^^.\n",
    "Wiem że sama teoria działania sieci to troche Rocket Science, ale my nie jesteśmy MELowcami, tylko pilotami ;)\n",
    "</br>\n",
    "W tym notatniku tylko i wyłącznie uruchomicie sobie prostą sieć i zobaczycie, że działa i może w praktyce\n",
    "nie jest to aż tak straszne jak się wydaje ;)"
   ],
   "cell_type": "markdown",
   "metadata": {}
  },
  {
   "source": [
    "### Etap 1 - Dane\n",
    "W tym notebooku używam zbioru [MNIST](https://en.wikipedia.org/wiki/MNIST_database), ale tylko i wyłącznie dlatego,\n",
    "że jest on standardowo dostępny w bibliotece Keras (o której więcej będzie później) i nie musicie mieć żadnych dodatkowych danych.\n",
    "</br>\n",
    "Idea MNIST jest banalna - pary (obrazek 28x28 z ręcznie napisaną cyfrą, opis jaka to cyfra ale jako liczba)."
   ],
   "cell_type": "markdown",
   "metadata": {}
  },
  {
   "cell_type": "code",
   "execution_count": null,
   "metadata": {},
   "outputs": [],
   "source": [
    "from keras.datasets import mnist\n",
    "\n",
    "train, test = mnist.load_data()"
   ]
  },
  {
   "source": [
    "Dla przykładu obrazek i etykieta..."
   ],
   "cell_type": "markdown",
   "metadata": {}
  },
  {
   "cell_type": "code",
   "execution_count": null,
   "metadata": {},
   "outputs": [],
   "source": [
    "from matplotlib.pyplot import imshow, figure\n",
    "image, label = train[0][0], train[1][0]\n",
    "print('Etykieta:', label)\n",
    "print('Obrazek:')\n",
    "imshow(image)"
   ]
  },
  {
   "source": [
    "Ważne jest też to, że w zależności od budowy sieci różnie wyglądają dane wejściowe. O tym też będziecie mieli okazję się przekonać i będę o tym mówił. Na tym etapie wspomne, że jeżeli chodzi o znajomość Pythona, to wg mnie to jest  miejsce gdzie jest on bardzo ważny - przygotowywanie danych. Korzystanie z takich bibliotek jak NumPy, albo OpenCV to podstawa, żeby wogóle ruszyć z siecią, więc jeżeli ktoś nie czuje się z tym pewnie, to warto się tym pobawić."
   ],
   "cell_type": "markdown",
   "metadata": {}
  },
  {
   "cell_type": "code",
   "execution_count": null,
   "metadata": {},
   "outputs": [],
   "source": [
    "from keras.utils import to_categorical\n",
    "\n",
    "def normalize_dataset(ds):\n",
    "    images, labels = ds\n",
    "    images = images.reshape(images.shape[0], 28 * 28).astype(float) / 255\n",
    "    labels = to_categorical(labels)\n",
    "    return images, labels\n",
    "\n",
    "train = normalize_dataset(train)\n",
    "test = normalize_dataset(test)"
   ]
  },
  {
   "source": [
    "### Etap 2 - Sieć neuronowa\n",
    "Pod spodem w dwóch komórkach znajduje się cała implementacja sieci neuronowej.\n",
    "Na tym etapie jej budowa nie jest ważna, bo o tym będziemy mówić później.\n",
    "Chcę tylko żebyście zauważyli, że kodowanie jej w praktyce sprowadza się do budowania z klocków (warstw)\n"
   ],
   "cell_type": "markdown",
   "metadata": {}
  },
  {
   "source": [
    "W tej komórce budujemy sieć. Na koniec wypiszą wam się warstwy w waszym modelu. Sama budowa tak jak mówiłem na razie nie jest ważna, ale o funkcji _summary_ warto pamiętać na przyszłość. Ciekawe rzeczy są też wypisane na końcu podsumowania, w szczególności liczba parametrów sieci. Jak widzicie prosty model już ma ponad pół miliona parametrów do wyuczenia. To tak tylko mówię, żebyście zobaczyli jak potężne obliczenia właśnie wykonujecie ;)"
   ],
   "cell_type": "markdown",
   "metadata": {}
  },
  {
   "cell_type": "code",
   "execution_count": null,
   "metadata": {},
   "outputs": [],
   "source": [
    "from keras import models \n",
    "from keras import layers\n",
    "\n",
    "model = models.Sequential([\n",
    "    layers.Dense(512, activation='relu', input_shape=(28 * 28,)),\n",
    "    layers.Dense(256, activation='relu'),\n",
    "    layers.Dense(128, activation='relu'),\n",
    "    layers.Dense(10, activation='softmax')\n",
    "])\n",
    "\n",
    "model.summary()"
   ]
  },
  {
   "source": [
    "Tutaj kompilujemy model. Po zaprojektowaniu sieci trzeba jeszcze wybrać troche rzeczy odpowiedzialnych za sterowanie procesem uczenia i jego monitorowaniem. Jeżeli ktoś po przeglądaniu materiałów pamięta coś o spadku gradientowym albo funkcji strat, to to jest właśnie to miejsce gdzie umieszcza się to w kodzie."
   ],
   "cell_type": "markdown",
   "metadata": {}
  },
  {
   "cell_type": "code",
   "execution_count": null,
   "metadata": {},
   "outputs": [],
   "source": [
    "model.compile(\n",
    "    optimizer='SGD',\n",
    "    loss='categorical_crossentropy',\n",
    "    metrics=['accuracy']\n",
    ")"
   ]
  },
  {
   "source": [
    "### Etap 3 - uczenie i walidacja\n",
    "Teraz przechodzimy do całego clue uczenia maszynowego. Dajemy sieci dane do uczenia, dajemy jej robić czary-mary, a potem sprawdzamy jak jej poszło :D"
   ],
   "cell_type": "markdown",
   "metadata": {}
  },
  {
   "source": [
    "Całe zagadnienie uczenia to ta komórka, nic więcej. Sieć w oparciu o to co napisaliśmy wcześniej i co napiszemy tu pouczy się i będzie mogła być wykorzystywana żeby realizować jakieś zadanie."
   ],
   "cell_type": "markdown",
   "metadata": {}
  },
  {
   "cell_type": "code",
   "execution_count": null,
   "metadata": {},
   "outputs": [],
   "source": [
    "history = model.fit(\n",
    "    x=train[0], \n",
    "    y=train[1],\n",
    "    epochs=10,\n",
    "    validation_split=0.2,\n",
    "    batch_size=128\n",
    ")"
   ]
  },
  {
   "source": [
    "Tutaj też wyrysowałem wykresy, których często używa się do póżniejszej analizy działania sieci. Ale o tym klasycznie będzie później..."
   ],
   "cell_type": "markdown",
   "metadata": {}
  },
  {
   "cell_type": "code",
   "execution_count": null,
   "metadata": {},
   "outputs": [],
   "source": [
    "import matplotlib.pyplot as plt\n",
    "\n",
    "plt.figure(figsize=(15, 5))\n",
    "plt.subplot(121)\n",
    "plt.plot(history.history['loss'])\n",
    "plt.plot(history.history['val_loss'])\n",
    "plt.title('Model loss')\n",
    "plt.ylabel('Loss')\n",
    "plt.xlabel('Epoch')\n",
    "plt.legend(['Train', 'Test'], loc='upper left')\n",
    "plt.show()"
   ]
  },
  {
   "source": [
    "No i wisienka na torcie - uzyskane wyniki na zbiorze testowym, tak żebyście zobaczyli jak dobrze działa 20 linijek kodu :P"
   ],
   "cell_type": "markdown",
   "metadata": {}
  },
  {
   "cell_type": "code",
   "execution_count": null,
   "metadata": {},
   "outputs": [],
   "source": [
    "loss, accuracy = model.evaluate(test[0], test[1])\n",
    "print(f\"Test results:\\n\\tLoss: {loss}\\n\\tAccuracy: {accuracy}\")"
   ]
  },
  {
   "source": [
    "### Podsumowanie\n",
    "Tak jak mówiłem, **nie macie póki co wiedzieć jak to wszystko działa**. Wiedzy będzie jeszcze dużo, a chcę uniknąć tego co na początku mnie odrzucało od Machine Learningu - **ZBYT DUŻO RZECZY NA RAZ**. \n",
    "Na początek chcę żebyście odnaleźli się w Google Collab, Notebookach i tym wszystkim, a potem przejdziemy do nauki. </br></br>\n",
    "W tym Notebooku pokazałem wam typowy (podstawowy) schemat pracy z sieciami. Nie mówiłem wszystkiego, ale generalnie tak w etapach wygląda implementowanie sieci neuronowych."
   ],
   "cell_type": "markdown",
   "metadata": {}
  },
  {
   "source": [
    "### Zadanka dla ciekawskich\n",
    "Jeżeli przejdziecie Notebook to mam dla was 3 rzeczy do zrobienia:\n",
    "<ol>\n",
    "    <li> Notebooki są dla was, więc grzebcie w nich, psujcie, zmieniajcie i patrzcie co się dzieje - tak jest się tego najłatwiej nauczyć i przy okazji douczyć się Pythona,\n",
    "    <li> Zachęcam was do przeglądania [API Keras](https://keras.io/api/), bo to tutaj jest najwięcej info o tym jak to działa. Korzystanie z bibliotek wymaga tej umiejętności, że trzeba umieć czytać w dokumentacji jak są one zbudowane i co można w nich robić. Jako testowy task spróbujcie znaleźć info o funkcjach _fit_ i _evaluate_, co ogólnie robią i jakie mają parametry wejściowe\n",
    "    <li> Jeżeli ktoś jest niedowiarkiem to zabawcie się i sprawdźcie czy wasza sieć faktycznie działą. Stwórzcie obrazek 28x28 pikseli, napiszcie tam cyfrę i zobaczcie czy sieć dobrze podejmie decyzję :D. Kawałek kodu odpowiedzialny za predykcję dam wam na dole, a waszym zadaniem będzie stworzenie obrazka, wczytanie go do Pythona i przekształcenie tak żeby mogła go odczytać sieć ;) Posiłkujcie się tym co zrobiłem wcześniej, printujcie, debugujcie - wszystkie chwyty dozwolone!\n",
    "</ol>"
   ],
   "cell_type": "markdown",
   "metadata": {}
  },
  {
   "cell_type": "code",
   "execution_count": null,
   "metadata": {},
   "outputs": [],
   "source": [
    "hand_written = ...\n",
    "\n",
    "result = model.predict(hand_written)\n",
    "result = result.argmax()\n",
    "print(\"Sieć zgaduje:\", result)"
   ]
  }
 ]
}