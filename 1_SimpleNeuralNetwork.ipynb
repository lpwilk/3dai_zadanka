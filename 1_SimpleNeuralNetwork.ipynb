{
 "metadata": {
  "language_info": {
   "codemirror_mode": {
    "name": "ipython",
    "version": 3
   },
   "file_extension": ".py",
   "mimetype": "text/x-python",
   "name": "python",
   "nbconvert_exporter": "python",
   "pygments_lexer": "ipython3",
   "version": 3
  },
  "orig_nbformat": 2
 },
 "nbformat": 4,
 "nbformat_minor": 2,
 "cells": [
  {
   "cell_type": "code",
   "execution_count": null,
   "metadata": {},
   "outputs": [],
   "source": [
    "from keras.datasets import mnist\n",
    "\n",
    "train, test = mnist.load_data()"
   ]
  },
  {
   "cell_type": "code",
   "execution_count": null,
   "metadata": {},
   "outputs": [],
   "source": [
    "from keras import models as mod\n",
    "from keras import layers as lay\n",
    "\n",
    "model = mod.Sequential([\n",
    "    lay.Dense(512, activation='relu', input_shape=(28 * 28,)),\n",
    "    lay.Dense(256, activation='relu'),\n",
    "    lay.Dense(128, activation='relu'),\n",
    "    lay.Dense(10, activation='softmax')\n",
    "])\n",
    "\n",
    "model.summary()"
   ]
  },
  {
   "cell_type": "code",
   "execution_count": null,
   "metadata": {},
   "outputs": [],
   "source": [
    "model.compile(\n",
    "    optimizer='Adam',\n",
    "    loss='categorical_crossentropy',\n",
    "    metrics=['accuracy']\n",
    ")"
   ]
  },
  {
   "cell_type": "code",
   "execution_count": null,
   "metadata": {},
   "outputs": [],
   "source": [
    "from keras.utils import to_categorical\n",
    "\n",
    "\n",
    "def normalize_dataset(ds):\n",
    "    images, labels = ds\n",
    "    images = images.reshape(images.shape[0], 28 * 28).astype(float) / 255\n",
    "    labels = to_categorical(labels)\n",
    "    return images, labels\n",
    "\n",
    "train = normalize_dataset(train)\n",
    "test = normalize_dataset(test)"
   ]
  },
  {
   "cell_type": "code",
   "execution_count": null,
   "metadata": {},
   "outputs": [],
   "source": [
    "from keras.callbacks import ReduceLROnPlateau\n",
    "import os\n",
    "os.environ['TF_FORCE_GPU_ALLOW_GROWTH'] = 'true'\n",
    "\n",
    "history = model.fit(\n",
    "    x=train[0], \n",
    "    y=train[1],\n",
    "    epochs=10,\n",
    "    validation_split=0.2,\n",
    "    batch_size=128,\n",
    "    callbacks=[ReduceLROnPlateau()] "
   ]
  },
  {
   "cell_type": "code",
   "execution_count": null,
   "metadata": {},
   "outputs": [],
   "source": [
    "import matplotlib.pyplot as plt\n",
    "\n",
    "def plot_history(history):\n",
    "    plt.figure(figsize=(15, 5))\n",
    "\n",
    "    plt.subplot(121)\n",
    "    plt.plot(history.history['loss'])\n",
    "    plt.plot(history.history['val_loss'])\n",
    "    plt.title('Model loss')\n",
    "    plt.ylabel('Loss')\n",
    "    plt.xlabel('Epoch')\n",
    "    plt.legend(['Train', 'Test'], loc='upper left')\n",
    "    plt.show()\n",
    "\n",
    "plot_history(history)"
   ]
  },
  {
   "cell_type": "code",
   "execution_count": null,
   "metadata": {},
   "outputs": [],
   "source": [
    "loss, accuracy = model.evaluate(test[0], test[1])\n",
    "print(f\"Test results:\\n\\tLoss: {loss}\\n\\tAccuracy: {accuracy}\")"
   ]
  }
 ]
}